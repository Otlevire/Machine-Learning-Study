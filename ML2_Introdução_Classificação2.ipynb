{
  "nbformat": 4,
  "nbformat_minor": 0,
  "metadata": {
    "colab": {
      "provenance": [],
      "authorship_tag": "ABX9TyNODK7NcJQuapLaHZsEy6zZ",
      "include_colab_link": true
    },
    "kernelspec": {
      "name": "python3",
      "display_name": "Python 3"
    },
    "language_info": {
      "name": "python"
    }
  },
  "cells": [
    {
      "cell_type": "markdown",
      "metadata": {
        "id": "view-in-github",
        "colab_type": "text"
      },
      "source": [
        "<a href=\"https://colab.research.google.com/github/Otlevire/Machine-Learning-Study/blob/main/ML2_Introdu%C3%A7%C3%A3o_Classifica%C3%A7%C3%A3o2.ipynb\" target=\"_parent\"><img src=\"https://colab.research.google.com/assets/colab-badge.svg\" alt=\"Open In Colab\"/></a>"
      ]
    },
    {
      "cell_type": "code",
      "execution_count": 35,
      "metadata": {
        "colab": {
          "base_uri": "https://localhost:8080/"
        },
        "id": "FrNH_FyhC_5W",
        "outputId": "430f3e83-16e4-424e-e19a-954fe4cc8749"
      },
      "outputs": [
        {
          "output_type": "stream",
          "name": "stdout",
          "text": [
            "Treinado com 74 elementos e testado com 25\n",
            "A taxa de acerto é de:96.00%\n"
          ]
        },
        {
          "output_type": "stream",
          "name": "stderr",
          "text": [
            "/usr/local/lib/python3.10/dist-packages/sklearn/utils/validation.py:1143: DataConversionWarning: A column-vector y was passed when a 1d array was expected. Please change the shape of y to (n_samples, ), for example using ravel().\n",
            "  y = column_or_1d(y, warn=True)\n"
          ]
        }
      ],
      "source": [
        "'''\n",
        "  Abrir arquivo CSV\n",
        "  Imprimir linhas com a função head()\n",
        "  Renomear colunas\n",
        "  Separar dados de treino e teste\n",
        "  Definir a ordem para os números de aleatórios\n",
        "'''\n",
        "import pandas as pd\n",
        "from sklearn.svm import LinearSVC\n",
        "from sklearn.metrics import accuracy_score\n",
        "from sklearn.model_selection import train_test_split\n",
        "\n",
        "# Pegando os dados da folha de excel com o pandas\n",
        "uri='https://gist.githubusercontent.com/guilhermesilveira/2d2efa37d66b6c84a722ea627a897ced/raw/10968b997d885cbded1c92938c7a9912ba41c615/tracking.csv'\n",
        "dados = pd.read_csv(uri)\n",
        "dados.head()\n",
        "\n",
        "# Renomeando os headers da tabela\n",
        "mapa = {\n",
        "    \"home\": \"principal\",\n",
        "    \"how_it_works\": \"como_funciona\",\n",
        "    \"contact\": \"contacto\",\n",
        "    \"bought\": \"comprou\"\n",
        "}\n",
        "dados = dados.rename(columns=mapa)\n",
        "\n",
        "# Inserindo as features e os output\n",
        "x = dados[['principal', 'como_funciona', 'contacto']]\n",
        "y = dados[['comprou']]\n",
        "y.head()\n",
        "\n",
        "SEED = 20 # Define a ordem dos números aleatórios no modelo da separação dos dados de treino\n",
        "\n",
        "#Separando o conjunto para treino e o conjunto para teste\n",
        "#test_size: coloca os dados de teste no valor a indicar em percentagem(no caso 25% dos dados vão para teste)\n",
        "#stratify: separa proporcionalmente os dados de treino e teste de acordo com y(garante que os dados de este e treino estejam na mesmo proporção)\n",
        "treino_x, teste_x, treino_y, teste_y =  train_test_split(x, y, random_state = SEED,test_size=0.25, stratify=y)\n",
        "print(f'Treinado com {len(treino_x)} elementos e testado com {len(teste_x)}')\n",
        "\n",
        "# Instanciando o Modelo de treino LinearSVC (Linear Support Vector Classification)\n",
        "modelo = LinearSVC()\n",
        "\n",
        "#Treinando o modelo\n",
        "modelo.fit(treino_x, treino_y)\n",
        "\n",
        "#Fazendo previsoes no modelo já treinado com base nos dados de teste\n",
        "previsoes = modelo.predict(teste_x)\n",
        "\n",
        "#verificando a eficiencia do treinamento com a acuracia\n",
        "acuracia = accuracy_score(teste_y,previsoes)\n",
        "print('A taxa de acerto é de:%.2f%%' % (acuracia*100))\n",
        "\n"
      ]
    },
    {
      "cell_type": "code",
      "source": [
        "# verificando os dados de treino e teste\n",
        "print(treino_y.value_counts())\n",
        "print(teste_y.value_counts())"
      ],
      "metadata": {
        "colab": {
          "base_uri": "https://localhost:8080/"
        },
        "id": "lu0AswQuE7Bq",
        "outputId": "aaa2064d-544a-4daf-f62a-1e6e07955956"
      },
      "execution_count": 34,
      "outputs": [
        {
          "output_type": "stream",
          "name": "stdout",
          "text": [
            "comprou\n",
            "0          47\n",
            "1          27\n",
            "dtype: int64\n",
            "comprou\n",
            "0          19\n",
            "1           6\n",
            "dtype: int64\n"
          ]
        }
      ]
    }
  ]
}