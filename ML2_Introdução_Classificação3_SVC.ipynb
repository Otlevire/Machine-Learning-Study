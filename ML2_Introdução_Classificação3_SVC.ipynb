{
  "nbformat": 4,
  "nbformat_minor": 0,
  "metadata": {
    "colab": {
      "provenance": [],
      "authorship_tag": "ABX9TyMh/fua4kshe2beslfeOL70",
      "include_colab_link": true
    },
    "kernelspec": {
      "name": "python3",
      "display_name": "Python 3"
    },
    "language_info": {
      "name": "python"
    }
  },
  "cells": [
    {
      "cell_type": "markdown",
      "metadata": {
        "id": "view-in-github",
        "colab_type": "text"
      },
      "source": [
        "<a href=\"https://colab.research.google.com/github/Otlevire/Machine-Learning-Study/blob/main/ML2_Introdu%C3%A7%C3%A3o_Classifica%C3%A7%C3%A3o3_SVC.ipynb\" target=\"_parent\"><img src=\"https://colab.research.google.com/assets/colab-badge.svg\" alt=\"Open In Colab\"/></a>"
      ]
    },
    {
      "cell_type": "code",
      "execution_count": 15,
      "metadata": {
        "colab": {
          "base_uri": "https://localhost:8080/"
        },
        "id": "5o1rpKjDMeN1",
        "outputId": "c02e0a9a-1b20-4d39-d27e-62f0dba14b2f"
      },
      "outputs": [
        {
          "output_type": "execute_result",
          "data": {
            "text/plain": [
              "66.85185185185185"
            ]
          },
          "metadata": {},
          "execution_count": 15
        }
      ],
      "source": [
        "import pandas as pd\n",
        "import numpy as np\n",
        "from sklearn.svm  import SVC\n",
        "from sklearn.metrics import accuracy_score\n",
        "from sklearn.model_selection import train_test_split\n",
        "from sklearn.preprocessing import StandardScaler\n",
        "\n",
        "# Uri do arquivo bruto\n",
        "uri = 'https://gist.githubusercontent.com/guilhermesilveira/1b7d5475863c15f484ac495bd70975cf/raw/16aff7a0aee67e7c100a2a48b676a2d2d142f646/projects.csv'\n",
        "\n",
        "# Lendo os dados da uri\n",
        "dados = pd.read_csv(uri)\n",
        "\n",
        "# Renomear colunas\n",
        "mapa = {\n",
        "    'unfinished': 'nao_finalizado',\n",
        "    'expected_hours': 'horas_esperadas',\n",
        "    'price' : 'preco'\n",
        "}\n",
        "\n",
        "dados = dados.rename(columns = mapa)\n",
        "\n",
        "# Imprindo as 5 primeiras linhas\n",
        "dados.head()\n",
        "\n",
        "# trocar\n",
        "troca = {\n",
        "    1:0,\n",
        "    0:1\n",
        "}\n",
        "dados['finalizado'] = dados.nao_finalizado.map(troca)\n",
        "\n",
        "dados.head()\n",
        "\n",
        "x = dados[['horas_esperadas', 'preco']]\n",
        "y = dados['finalizado']\n",
        "\n",
        "SEED = 5\n",
        "np.random.seed(SEED)\n",
        "\n",
        "#raw: bruto, original\n",
        "raw_treino_x, raw_teste_x, treino_y, teste_y = train_test_split(x, y, test_size=0.25, stratify=y)\n",
        "\n",
        "# colocando dos dados de treino de x e y na mesma escala\n",
        "scaler = StandardScaler()\n",
        "scaler.fit(raw_treino_x)\n",
        "treino_x = scaler.transform(raw_treino_x)\n",
        "teste_x = scaler.transform(raw_teste_x)\n",
        "\n",
        "\n",
        "modelo = SVC()\n",
        "modelo.fit(treino_x, treino_y)\n",
        "previsoes = modelo.predict(teste_x)\n",
        "acuracia = accuracy_score(teste_y, previsoes)*100\n",
        "acuracia"
      ]
    },
    {
      "cell_type": "code",
      "source": [
        "\n",
        "previsoes_de_base = np.ones(540)\n",
        "acuracia_base = accuracy_score(teste_y, previsoes_de_base) *100\n",
        "print('Linha de base:', acuracia_base)\n"
      ],
      "metadata": {
        "colab": {
          "base_uri": "https://localhost:8080/"
        },
        "id": "u2mReBJ1aPDl",
        "outputId": "514a7cc3-a5ab-48c5-d5d8-8bc9eed784f5"
      },
      "execution_count": 12,
      "outputs": [
        {
          "output_type": "stream",
          "name": "stdout",
          "text": [
            "Linha de base: 52.59259259259259\n"
          ]
        }
      ]
    },
    {
      "cell_type": "code",
      "source": [],
      "metadata": {
        "id": "RLUBtJS3dBOs"
      },
      "execution_count": null,
      "outputs": []
    }
  ]
}