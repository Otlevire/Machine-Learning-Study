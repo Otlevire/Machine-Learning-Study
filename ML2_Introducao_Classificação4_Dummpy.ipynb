{
  "nbformat": 4,
  "nbformat_minor": 0,
  "metadata": {
    "colab": {
      "provenance": [],
      "authorship_tag": "ABX9TyO7T9/EE1/jHADaeUTsKPj2",
      "include_colab_link": true
    },
    "kernelspec": {
      "name": "python3",
      "display_name": "Python 3"
    },
    "language_info": {
      "name": "python"
    }
  },
  "cells": [
    {
      "cell_type": "markdown",
      "metadata": {
        "id": "view-in-github",
        "colab_type": "text"
      },
      "source": [
        "<a href=\"https://colab.research.google.com/github/Otlevire/Machine-Learning-Study/blob/main/ML2_Introducao_Classifica%C3%A7%C3%A3o4_Dummpy.ipynb\" target=\"_parent\"><img src=\"https://colab.research.google.com/assets/colab-badge.svg\" alt=\"Open In Colab\"/></a>"
      ]
    },
    {
      "cell_type": "code",
      "execution_count": 30,
      "metadata": {
        "colab": {
          "base_uri": "https://localhost:8080/"
        },
        "id": "0AxvgLlNlHb7",
        "outputId": "273d94ba-308e-4267-b7b1-752c2d15e2e1"
      },
      "outputs": [
        {
          "output_type": "stream",
          "name": "stdout",
          "text": [
            "Acuracia encontrada:46.88%\n"
          ]
        },
        {
          "output_type": "stream",
          "name": "stderr",
          "text": [
            "/usr/local/lib/python3.10/dist-packages/sklearn/svm/_base.py:1244: ConvergenceWarning: Liblinear failed to converge, increase the number of iterations.\n",
            "  warnings.warn(\n"
          ]
        }
      ],
      "source": [
        "import pandas as pd\n",
        "import numpy as np\n",
        "from datetime import datetime\n",
        "from sklearn.svm import LinearSVC\n",
        "from sklearn.metrics import accuracy_score\n",
        "from sklearn.model_selection import train_test_split\n",
        "\n",
        "uri = 'https://gist.githubusercontent.com/guilhermesilveira/4d1d4a16ccbf6ea4e0a64a38a24ec884/raw/afd05cb0c796d18f3f5a6537053ded308ba94bf7/car-prices.csv'\n",
        "\n",
        "dados = pd.read_csv(uri)\n",
        "# dados.head()\n",
        "\n",
        "mapa ={\n",
        "    \"mileage_per_year\":\"milhas_por_ano\",\n",
        "    \"model_year\":\"ano_do_modelo\",\n",
        "    \"sold\":\"vendido\",\n",
        "    \"price\":\"preco\",\n",
        "}\n",
        "dados = dados.rename(columns = mapa)\n",
        "\n",
        "dados.head()\n",
        "\n",
        "trocar ={\"yes\":1, \"no\":0}\n",
        "dados.vendido = dados.vendido.map(trocar)\n",
        "\n",
        "ano_actual = datetime.today().year\n",
        "dados['idade_do_modelo'] = ano_actual - dados.ano_do_modelo\n",
        "dados['kilometro_por_ano'] = dados.milhas_por_ano*1.60934\n",
        "\n",
        "dados = dados.drop(columns=['Unnamed: 0','milhas_por_ano', 'ano_do_modelo'], axis=1)\n",
        "# dados.head()\n",
        "\n",
        "#separando os dados das features\n",
        "x = dados[['preco', 'idade_do_modelo', 'kilometro_por_ano']]\n",
        "y = dados['vendido']\n",
        "\n",
        "SEED= 5\n",
        "np.random.seed(SEED)\n",
        "treino_x, teste_x, treino_y, teste_y = train_test_split(x, y, test_size=0.25, stratify=y)\n",
        "\n",
        "modelo = LinearSVC()\n",
        "modelo.fit(treino_x, treino_y)\n",
        "previsoes = modelo.predict(teste_x)\n",
        "acuracia = accuracy_score(teste_y, previsoes) *100\n",
        "\n",
        "print('Acuracia encontrada:%.2f%%' % acuracia)\n"
      ]
    },
    {
      "cell_type": "code",
      "source": [
        "from sklearn.dummy import DummyClassifier\n",
        "dummy_stratified = DummyClassifier()\n",
        "dummy_stratified.fit(treino_x, treino_y)\n",
        "acuracia_base = dummy_stratified.score(teste_x, teste_y)*100\n",
        "\n",
        "# previsoes_base = np.ones(len(teste_y))\n",
        "# acuracia_base = accuracy_score(teste_y, previsoes_base)*100\n",
        "print('Linha de base:%.2f%%' % acuracia_base)\n"
      ],
      "metadata": {
        "colab": {
          "base_uri": "https://localhost:8080/"
        },
        "id": "uGssEkUzsdG8",
        "outputId": "a4696d0f-d353-499d-a1bd-bcf9b60d7706"
      },
      "execution_count": 46,
      "outputs": [
        {
          "output_type": "stream",
          "name": "stdout",
          "text": [
            "Linha de base:58.00%\n"
          ]
        }
      ]
    }
  ]
}